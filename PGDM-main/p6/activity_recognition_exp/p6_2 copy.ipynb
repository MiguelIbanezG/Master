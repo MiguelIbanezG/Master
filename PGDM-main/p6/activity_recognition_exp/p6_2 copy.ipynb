{
 "cells": [
  {
   "cell_type": "code",
   "execution_count": 1,
   "metadata": {},
   "outputs": [
    {
     "name": "stderr",
     "output_type": "stream",
     "text": [
      "24/12/22 17:33:03 WARN Utils: Your hostname, Zhijie resolves to a loopback address: 127.0.1.1; using 192.168.93.152 instead (on interface wlo1)\n",
      "24/12/22 17:33:03 WARN Utils: Set SPARK_LOCAL_IP if you need to bind to another address\n",
      "Setting default log level to \"WARN\".\n",
      "To adjust logging level use sc.setLogLevel(newLevel). For SparkR, use setLogLevel(newLevel).\n",
      "24/12/22 17:33:03 WARN NativeCodeLoader: Unable to load native-hadoop library for your platform... using builtin-java classes where applicable\n",
      "24/12/22 17:33:04 WARN Utils: Service 'SparkUI' could not bind on port 4040. Attempting port 4041.\n",
      "24/12/22 17:33:04 WARN Utils: Service 'SparkUI' could not bind on port 4041. Attempting port 4042.\n"
     ]
    }
   ],
   "source": [
    "import csv\n",
    "from pyspark import SparkContext\n",
    "import timeit\n",
    "import datetime\n",
    "from pyspark.sql.types import *\n",
    "from pyspark.sql import SparkSession\n",
    "from pyspark.sql import functions as F\n",
    "import matplotlib.pyplot as plt\n",
    "import pandas as pd\n",
    "import os\n",
    "sc=SparkContext()\n",
    "spark = SparkSession \\\n",
    "    .builder \\\n",
    "    .appName(\"Python Spark SQL basic example\") \\\n",
    "    .config(\"spark.some.config.option\", \"some-value\") \\\n",
    "    .getOrCreate()"
   ]
  },
  {
   "cell_type": "code",
   "execution_count": 2,
   "metadata": {},
   "outputs": [],
   "source": [
    "def configure_data(line):\n",
    "    \"\"\"\n",
    "    Convierte una línea del archivo CSV en un par clave-valor.\n",
    "\n",
    "    Args:\n",
    "        line (str): Línea del archivo CSV.\n",
    "\n",
    "    Returns:\n",
    "        tuple: Una tupla `(key, value)` donde:\n",
    "            - `key`: Tupla `(User, Model, gt)` como identificador.\n",
    "            - `value`: Tupla con datos para cálculos agregados.\n",
    "        Devuelve `(None, None)` si el valor `gt` es `'null'`.\n",
    "    \"\"\"\n",
    "    datas = line.split(',')\n",
    "    if datas[9] == 'null':\n",
    "        return None, None\n",
    "\n",
    "    x = float(datas[3])\n",
    "    y = float(datas[4])\n",
    "    z = float(datas[5])\n",
    "    key = (datas[6], datas[7], datas[9])\n",
    "    value = (\n",
    "        x, y, z,\n",
    "        x**2, y**2, z**2,\n",
    "        x, y, z,\n",
    "        x, y, z,\n",
    "        1\n",
    "    )\n",
    "\n",
    "    return key, value\n",
    "\n",
    "def filter_data(data):\n",
    "    \"\"\"\n",
    "    Filtra registros con claves nulas.\n",
    "\n",
    "    Args:\n",
    "        data (tuple): Una tupla `(key, value)`.\n",
    "\n",
    "    Returns:\n",
    "        bool: `True` si la clave no es `None`, de lo contrario `False`.\n",
    "    \"\"\"\n",
    "    key, _ = data\n",
    "    if key is None:\n",
    "        return False\n",
    "    return True\n",
    "\n",
    "def reduce_data(a, b):\n",
    "    \"\"\"\n",
    "    Combina dos tuplas de datos para agregar valores (sumatorias, mínimos, máximos, conteo).\n",
    "\n",
    "    Args:\n",
    "        a (tuple): Primera tupla con valores acumulados.\n",
    "        b (tuple): Segunda tupla con valores acumulados.\n",
    "\n",
    "    Returns:\n",
    "        tuple: Una tupla con los valores combinados.\n",
    "    \"\"\"\n",
    "    sum_x = a[0] + b[0]\n",
    "    sum_y = a[1] + b[1]\n",
    "    sum_z = a[2] + b[2]\n",
    "    sum_x2 = a[3] + b[3]\n",
    "    sum_y2 = a[4] + b[4]\n",
    "    sum_z2 = a[5] + b[5]\n",
    "    max_x = max(a[6], b[6])\n",
    "    max_y = max(a[7], b[7])\n",
    "    max_z = max(a[8], b[8])\n",
    "    min_x = min(a[9], b[9])\n",
    "    min_y = min(a[10], b[10])\n",
    "    min_z = min(a[11], b[11])\n",
    "    count = a[12] + b[12]\n",
    "    return (\n",
    "        sum_x, sum_y, sum_z,\n",
    "        sum_x2, sum_y2, sum_z2,\n",
    "        max_x, max_y, max_z,\n",
    "        min_x, min_y, min_z,\n",
    "        count\n",
    "    )\n",
    "\n",
    "def calculate_data(data):\n",
    "    \"\"\"\n",
    "    Calcula métricas como la media, desviación estándar, máximo y mínimo por eje.\n",
    "\n",
    "    Args:\n",
    "        data (tuple): Tupla `(key, aggregated_values)`.\n",
    "\n",
    "    Returns:\n",
    "        tuple: Tupla `(key, metrics)` donde `metrics` incluye las métricas calculadas.\n",
    "    \"\"\"\n",
    "    key, value = data\n",
    "    sum_x, sum_y, sum_z, sum_x2, sum_y2, sum_z2, max_x, max_y, max_z, min_x, min_y, min_z, count = value\n",
    "    mean_x = sum_x / count\n",
    "    mean_y = sum_y / count\n",
    "    mean_z = sum_z / count\n",
    "    std_x = (sum_x2 / count - mean_x**2)**0.5\n",
    "    std_y = (sum_y2 / count - mean_y**2)**0.5\n",
    "    std_z = (sum_z2 / count - mean_z**2)**0.5\n",
    "    return key, (mean_x, mean_y, mean_z, std_x, std_y, std_z, max_x, max_y, max_z, min_x, min_y, min_z)\n",
    "\n",
    "def simplify_data(data):\n",
    "    \"\"\"\n",
    "    Combina datos de giroscopios y acelerómetros en una sola estructura.\n",
    "\n",
    "    Args:\n",
    "        data (tuple): Tupla `(key, (value1, value2))`.\n",
    "\n",
    "    Returns:\n",
    "        tuple: Tupla `(key, combined_values)` con todos los datos combinados.\n",
    "    \"\"\"\n",
    "    key, (value1, value2) = data\n",
    "    combined_values = value1 + value2\n",
    "    return key, combined_values\n",
    "\n",
    "def split_data(data):\n",
    "    datas = data.split(',')\n",
    "    # We use bool for unused column to reduce memory usage\n",
    "    return bool(datas[0]), bool(datas[1]), bool(datas[2]), float(datas[3]), float(datas[4]), float(datas[5]), datas[6], datas[7], datas[8], datas[9]\n",
    "\n",
    "def load_and_preprocess(file_path, schema):\n",
    "    return spark.read.csv(file_path, schema=schema, nullValue=\"null\")\n",
    "\n",
    "def compute_group_statistics(data):\n",
    "    return data.groupBy(data['user'], data['model'], data['gt']).agg(\n",
    "        F.mean(data['x']).alias('mean_x'),\n",
    "        F.mean(data['y']).alias('mean_y'),\n",
    "        F.mean(data['z']).alias('mean_z'),\n",
    "        F.stddev(data['x']).alias('std_x'),\n",
    "        F.stddev(data['y']).alias('std_y'),\n",
    "        F.stddev(data['z']).alias('std_z'),\n",
    "        F.max(data['x']).alias('max_x'),\n",
    "        F.max(data['y']).alias('max_y'),\n",
    "        F.max(data['z']).alias('max_z'),\n",
    "        F.min(data['x']).alias('min_x'),\n",
    "        F.min(data['y']).alias('min_y'),\n",
    "        F.min(data['z']).alias('min_z')\n",
    "    )\n",
    "def get_parquet_folder_size(folder_path):\n",
    "    total_size = 0\n",
    "    for dirpath, dirnames, filenames in os.walk(folder_path):\n",
    "        for file in filenames:\n",
    "            file_path = os.path.join(dirpath, file)\n",
    "            total_size += os.path.getsize(file_path)\n",
    "    return total_size\n",
    "\n",
    "def get_csv_file_size(file_path):\n",
    "    if os.path.isfile(file_path):\n",
    "        file_size = os.path.getsize(file_path)\n",
    "        return file_size\n",
    "    else:\n",
    "        raise FileNotFoundError(f\"The file '{file_path}' does not exist.\")\n",
    "\n",
    "fields = [\n",
    "    StructField(\"_index\", BooleanType(), False), StructField(\"_arrive\", BooleanType(), False), StructField(\"_creation\", BooleanType(), False),\n",
    "    StructField(\"x\", DoubleType(), False), StructField(\"y\", DoubleType(), False), StructField(\"z\", DoubleType(), False),\n",
    "    StructField(\"user\", StringType(), False), StructField(\"model\", StringType(), False), StructField(\"_device\", StringType(), False),\n",
    "    StructField(\"gt\", StringType(), False)\n",
    "]\n",
    "schema = StructType(fields)"
   ]
  },
  {
   "cell_type": "code",
   "execution_count": 3,
   "metadata": {},
   "outputs": [],
   "source": [
    "ori_folder = \"original/\"\n",
    "sml_folder = \"small/\"\n",
    "\n",
    "file_names = [\"Phones_accelerometer\", \"Phones_gyroscope\", \"Watch_accelerometer\", \"Watch_gyroscope\"]\n",
    "\n",
    "for file_name in file_names:\n",
    "    if not os.path.exists(sml_folder+file_name+\".parquet\"):\n",
    "        data = load_and_preprocess(sml_folder+file_name+\".csv\", schema)\n",
    "        data.write.save(sml_folder+file_name+\".parquet\")\n",
    "    \n",
    "    if not os.path.exists(ori_folder+file_name+\".parquet\"):\n",
    "        data = load_and_preprocess(ori_folder+file_name+\".csv\", schema)\n",
    "        data.write.save(ori_folder+file_name+\".parquet\")\n"
   ]
  },
  {
   "cell_type": "code",
   "execution_count": 4,
   "metadata": {},
   "outputs": [
    {
     "data": {
      "image/png": "[encoded data removed]",
      "text/plain": [
       "<Figure size 640x480 with 1 Axes>"
      ]
     },
     "metadata": {},
     "output_type": "display_data"
    },
    {
     "name": "stdout",
     "output_type": "stream",
     "text": [
      "                      sml_csv  sml_parquet\n",
      "Phones_accelerometer   997515        61409\n",
      "Phones_gyroscope      1100646        42037\n",
      "Watch_accelerometer    842763       111834\n",
      "Watch_gyroscope        894796        65614\n"
     ]
    },
    {
     "data": {
      "image/png": "[encoded data removed]",
      "text/plain": [
       "<Figure size 640x480 with 1 Axes>"
      ]
     },
     "metadata": {},
     "output_type": "display_data"
    },
    {
     "name": "stdout",
     "output_type": "stream",
     "text": [
      "                         ori_csv  ori_parquet\n",
      "Phones_accelerometer  1291856327     73804953\n",
      "Phones_gyroscope      1379145657     80561783\n",
      "Watch_accelerometer    327168052     26367149\n",
      "Watch_gyroscope        308337025     22012309\n"
     ]
    },
    {
     "name": "stderr",
     "output_type": "stream",
     "text": [
      "24/12/22 17:33:16 WARN GarbageCollectionMetrics: To enable non-built-in garbage collector(s) List(G1 Concurrent GC), users should configure it(them) to spark.eventLog.gcMetrics.youngGenerationGarbageCollectors or spark.eventLog.gcMetrics.oldGenerationGarbageCollectors\n"
     ]
    }
   ],
   "source": [
    "ori_csv = []\n",
    "sml_csv = []\n",
    "ori_parquet = []\n",
    "sml_parquet = []\n",
    "\n",
    "for file_name in file_names:\n",
    "    ori_csv.append(get_csv_file_size(ori_folder+file_name+\".csv\"))\n",
    "    sml_csv.append(get_csv_file_size(sml_folder+file_name+\".csv\"))\n",
    "    ori_parquet.append(get_parquet_folder_size(ori_folder+file_name+\".parquet\"))\n",
    "    sml_parquet.append(get_parquet_folder_size(sml_folder+file_name+\".parquet\"))\n",
    "\n",
    "sm_df = pd.DataFrame({\n",
    "    \"sml_csv\": sml_csv,\n",
    "    \"sml_parquet\": sml_parquet\n",
    "}, index=file_names)\n",
    "\n",
    "sm_df.plot(kind='bar')\n",
    "plt.title(\"Small files\")\n",
    "plt.ylabel(\"Size (bytes)\")\n",
    "plt.show()\n",
    "print(sm_df)\n",
    "\n",
    "or_df = pd.DataFrame({\n",
    "    \"ori_csv\": ori_csv,\n",
    "    \"ori_parquet\": ori_parquet\n",
    "}, index=file_names)\n",
    "\n",
    "or_df.plot(kind='bar')\n",
    "plt.title(\"Original files\")\n",
    "plt.ylabel(\"Size (bytes)\")\n",
    "plt.show()\n",
    "print(or_df)"
   ]
  },
  {
   "cell_type": "code",
   "execution_count": 5,
   "metadata": {},
   "outputs": [
    {
     "name": "stderr",
     "output_type": "stream",
     "text": [
      "[Stage 2:=================================================>       (14 + 2) / 16]\r"
     ]
    },
    {
     "name": "stdout",
     "output_type": "stream",
     "text": [
      "0:00:02.862581\n"
     ]
    },
    {
     "name": "stderr",
     "output_type": "stream",
     "text": [
      "                                                                                \r"
     ]
    },
    {
     "data": {
      "text/plain": [
       "[(('a', 'nexus4', 'stand'),\n",
       "  (-6.026499950569997,\n",
       "   0.9334959509016004,\n",
       "   8.013646013120006,\n",
       "   0.184551746735394,\n",
       "   0.24043415892743478,\n",
       "   0.17599985821395306,\n",
       "   -5.5202026,\n",
       "   1.9472808999999998,\n",
       "   8.638794,\n",
       "   -7.0448303,\n",
       "   -0.84251404,\n",
       "   7.149872,\n",
       "   0.0015888519490950034,\n",
       "   0.0010094604656469997,\n",
       "   0.00044218442934899877,\n",
       "   0.04277492705495176,\n",
       "   0.028613015987344483,\n",
       "   0.045941044056574176,\n",
       "   0.6321869000000001,\n",
       "   0.34971620000000003,\n",
       "   0.44873047,\n",
       "   -0.16569519,\n",
       "   -0.15550232,\n",
       "   -0.6001586999999999)),\n",
       " (('a', 'gear', 'stand'),\n",
       "  (-9.289753201219128,\n",
       "   -3.137156524200753,\n",
       "   -1.066286300996938,\n",
       "   0.41370414741585154,\n",
       "   1.0628532344784418,\n",
       "   0.6173240991928323,\n",
       "   -0.5650316,\n",
       "   -0.5781997,\n",
       "   1.01574,\n",
       "   -12.600683,\n",
       "   -11.08276,\n",
       "   -2.2625206,\n",
       "   0.022146662344973242,\n",
       "   -0.03286732380555579,\n",
       "   -0.07143672518383197,\n",
       "   0.07314944656109791,\n",
       "   0.05570243854351144,\n",
       "   0.050177495900925566,\n",
       "   0.81039995,\n",
       "   0.35446674,\n",
       "   1.1475562,\n",
       "   -2.0383835,\n",
       "   -0.55287224,\n",
       "   -1.2319783)),\n",
       " (('a', 'gear', 'sit'),\n",
       "  (-7.604519709183905,\n",
       "   -5.5283410786768235,\n",
       "   2.6383265126877022,\n",
       "   0.1855523178504538,\n",
       "   0.27427094510454214,\n",
       "   0.3856803558537603,\n",
       "   -6.6588736,\n",
       "   -0.83258367,\n",
       "   3.555988,\n",
       "   -10.8229885,\n",
       "   -6.9168487,\n",
       "   -3.6709096,\n",
       "   0.022705615070828633,\n",
       "   -0.041422496515184364,\n",
       "   -0.06997320145904547,\n",
       "   0.05703368820681714,\n",
       "   0.05626923635200855,\n",
       "   0.04523762117838848,\n",
       "   0.39867523,\n",
       "   0.39920786,\n",
       "   0.77604514,\n",
       "   -0.700944,\n",
       "   -0.79042625,\n",
       "   -0.22849922))]"
      ]
     },
     "execution_count": 5,
     "metadata": {},
     "output_type": "execute_result"
    }
   ],
   "source": [
    "a = datetime.datetime.now()\n",
    "data1 = sc.textFile(sml_folder+'Phones_accelerometer.csv', 8)\n",
    "data2 = sc.textFile(sml_folder+'Phones_gyroscope.csv', 8)\n",
    "data3 = sc.textFile(sml_folder+'Watch_accelerometer.csv', 8)\n",
    "data4 = sc.textFile(sml_folder+'Watch_gyroscope.csv', 8)\n",
    "\n",
    "r_data1 = data1.map(configure_data).filter(filter_data).reduceByKey(reduce_data).map(calculate_data)\n",
    "r_data2 = data2.map(configure_data).filter(filter_data).reduceByKey(reduce_data).map(calculate_data)\n",
    "r_data3 = data3.map(configure_data).filter(filter_data).reduceByKey(reduce_data).map(calculate_data)\n",
    "r_data4 = data4.map(configure_data).filter(filter_data).reduceByKey(reduce_data).map(calculate_data)\n",
    "\n",
    "phones = r_data1.join(r_data2).map(simplify_data)\n",
    "watch = r_data3.join(r_data4).map(simplify_data)\n",
    "\n",
    "result = phones.union(watch).collect()\n",
    "b = datetime.datetime.now()\n",
    "print (b-a)\n",
    "result"
   ]
  },
  {
   "cell_type": "code",
   "execution_count": 7,
   "metadata": {},
   "outputs": [
    {
     "name": "stdout",
     "output_type": "stream",
     "text": [
      "0:00:00.804481\n"
     ]
    },
    {
     "data": {
      "text/plain": [
       "[Row(user='a', model='nexus4', gt='stand', mean_x=-6.026499950569997, mean_y=0.9334959509016004, mean_z=8.013646013120006, std_x=0.18456097501476815, std_y=0.24044618153708075, std_z=0.17600865886717226, max_x=-5.5202026, max_y=1.9472808999999998, max_z=8.638794, min_x=-7.0448303, min_y=-0.84251404, min_z=7.149872, mean_x=0.0015888519490950034, mean_y=0.0010094604656469997, mean_z=0.00044218442934899877, std_x=0.04277706596172397, std_y=0.028614446745451546, std_z=0.04594334128107022, max_x=0.6321869000000001, max_y=0.34971620000000003, max_z=0.44873047, min_x=-0.16569519, min_y=-0.15550232, min_z=-0.6001586999999999),\n",
       " Row(user='a', model='gear', gt='stand', mean_x=-9.289753201219128, mean_y=-3.137156524200753, mean_z=-1.066286300996938, std_x=0.4137450252528024, std_y=1.0629582543131464, std_z=0.6173850965843359, max_x=-0.5650316, max_y=-0.5781997, max_z=1.01574, min_x=-12.600683, min_y=-11.08276, min_z=-2.2625206, mean_x=0.022146662344973242, mean_y=-0.03286732380555579, mean_z=-0.07143672518383197, std_x=0.0731566944626823, std_y=0.05570795773485955, std_z=0.050182467661740345, max_x=0.81039995, max_y=0.35446674, max_z=1.1475562, min_x=-2.0383835, min_y=-0.55287224, min_z=-1.2319783),\n",
       " Row(user='a', model='gear', gt='null', mean_x=-9.260130103197667, mean_y=-3.4726260017441857, mean_z=-1.0407208369767433, std_x=0.031136843450928816, std_y=0.051533902451264935, std_z=0.03147594360906463, max_x=-9.173983, max_y=-3.3207579, max_z=-0.9307459, min_x=-9.3583355, min_y=-3.5942953, min_z=-1.1420342, mean_x=0.022570096625655994, mean_y=-0.036608760294460654, mean_z=-0.07169493794752187, std_x=0.017825868007484237, std_y=0.0115782312798891, std_z=0.008051421311796689, max_x=0.0561927, max_y=-0.018109497, max_z=-0.055127434, min_x=-0.0314253, min_y=-0.08042747, min_z=-0.09347696),\n",
       " Row(user='a', model='gear', gt='sit', mean_x=-7.604519709183905, mean_y=-5.5283410786768235, mean_z=2.6383265126877022, std_x=0.18557251182385362, std_y=0.27430079447562156, std_z=0.3857223300994897, max_x=-6.6588736, max_y=-0.83258367, max_z=3.555988, min_x=-10.8229885, min_y=-6.9168487, min_z=-3.6709096, mean_x=0.022705615070828633, mean_y=-0.041422496515184364, mean_z=-0.06997320145904547, std_x=0.0570398750797763, std_y=0.05627534029912762, std_z=0.04524252844326988, max_x=0.39867523, max_y=0.39920786, max_z=0.77604514, min_x=-0.700944, min_y=-0.79042625, min_z=-0.22849922)]"
      ]
     },
     "execution_count": 7,
     "metadata": {},
     "output_type": "execute_result"
    }
   ],
   "source": [
    "a = datetime.datetime.now()\n",
    "data1 = spark.createDataFrame(sc.textFile(sml_folder+'Phones_accelerometer.csv', 8).map(split_data), schema)\n",
    "data2 = spark.createDataFrame(sc.textFile(sml_folder+'Phones_gyroscope.csv', 8).map(split_data), schema)\n",
    "data3 = spark.createDataFrame(sc.textFile(sml_folder+'Watch_accelerometer.csv', 8).map(split_data), schema)\n",
    "data4 = spark.createDataFrame(sc.textFile(sml_folder+'Watch_gyroscope.csv', 8).map(split_data), schema)\n",
    "\n",
    "group1 = compute_group_statistics(data1)\n",
    "group2 = compute_group_statistics(data2)\n",
    "group3 = compute_group_statistics(data3)\n",
    "group4 = compute_group_statistics(data4)\n",
    "\n",
    "join1 = group1.join(group2, ['user', 'model', 'gt'], 'inner')\n",
    "join2 = group3.join(group4, on=['user', 'model', 'gt'], how='inner')\n",
    "\n",
    "results = join1.union(join2).collect()\n",
    "b = datetime.datetime.now()\n",
    "print (b-a)\n",
    "results"
   ]
  },
  {
   "cell_type": "code",
   "execution_count": 8,
   "metadata": {},
   "outputs": [
    {
     "name": "stdout",
     "output_type": "stream",
     "text": [
      "0:00:01.163836\n"
     ]
    },
    {
     "data": {
      "text/plain": [
       "[Row(user='a', model='nexus4', gt='stand', mean_x=-6.02649995057012, mean_y=0.9334959509016011, mean_z=8.013646013119995, std_x=0.1845609750147674, std_y=0.24044618153707975, std_z=0.17600865886717884, max_x=-5.5202026, max_y=1.9472808999999998, max_z=8.638794, min_x=-7.0448303, min_y=-0.84251404, min_z=7.149872, mean_x=0.0015888519490950379, mean_y=0.001009460465647035, mean_z=0.00044218442934900517, std_x=0.042777065961724134, std_y=0.02861444674545153, std_z=0.045943341281070235, max_x=0.6321869000000001, max_y=0.34971620000000003, max_z=0.44873047, min_x=-0.16569519, min_y=-0.15550232, min_z=-0.6001586999999999),\n",
       " Row(user='a', model='gear', gt='stand', mean_x=-9.28975320121918, mean_y=-3.1371565242007433, mean_z=-1.0662863009969377, std_x=0.4137450252528032, std_y=1.0629582543131455, std_z=0.617385096584336, max_x=-0.5650316, max_y=-0.5781997, max_z=1.01574, min_x=-12.600683, min_y=-11.08276, min_z=-2.2625206, mean_x=0.022146662344973197, mean_y=-0.03286732380555572, mean_z=-0.07143672518383175, std_x=0.07315669446268228, std_y=0.05570795773485951, std_z=0.05018246766174032, max_x=0.81039995, max_y=0.35446674, max_z=1.1475562, min_x=-2.0383835, min_y=-0.55287224, min_z=-1.2319783),\n",
       " Row(user='a', model='gear', gt='sit', mean_x=-7.60451970918391, mean_y=-5.528341078676799, mean_z=2.6383265126877076, std_x=0.18557251182385523, std_y=0.27430079447562067, std_z=0.3857223300994913, max_x=-6.6588736, max_y=-0.83258367, max_z=3.555988, min_x=-10.8229885, min_y=-6.9168487, min_z=-3.6709096, mean_x=0.02270561507082863, mean_y=-0.04142249651518432, mean_z=-0.06997320145904558, std_x=0.057039875079776335, std_y=0.05627534029912766, std_z=0.04524252844326984, max_x=0.39867523, max_y=0.39920786, max_z=0.77604514, min_x=-0.700944, min_y=-0.79042625, min_z=-0.22849922)]"
      ]
     },
     "execution_count": 8,
     "metadata": {},
     "output_type": "execute_result"
    }
   ],
   "source": [
    "a = datetime.datetime.now()\n",
    "data1 = spark.read.load(sml_folder+\"Phones_accelerometer.parquet\")\n",
    "data2 = spark.read.load(sml_folder+\"Phones_gyroscope.parquet\")\n",
    "data3 = spark.read.load(sml_folder+\"Watch_accelerometer.parquet\")\n",
    "data4 = spark.read.load(sml_folder+\"Watch_gyroscope.parquet\")\n",
    "\n",
    "group1 = compute_group_statistics(data1)\n",
    "group2 = compute_group_statistics(data2)\n",
    "group3 = compute_group_statistics(data3)\n",
    "group4 = compute_group_statistics(data4)\n",
    "\n",
    "join1 = group1.join(group2, ['user', 'model', 'gt'], 'inner')\n",
    "join2 = group3.join(group4, on=['user', 'model', 'gt'], how='inner')\n",
    "\n",
    "results = join1.union(join2).collect()\n",
    "b = datetime.datetime.now()\n",
    "print (b-a)\n",
    "results"
   ]
  },
  {
   "cell_type": "code",
   "execution_count": 44,
   "metadata": {},
   "outputs": [
    {
     "name": "stderr",
     "output_type": "stream",
     "text": [
      "                                                                                \r"
     ]
    },
    {
     "name": "stdout",
     "output_type": "stream",
     "text": [
      "0:00:10.072972\n"
     ]
    }
   ],
   "source": [
    "a = datetime.datetime.now()\n",
    "data1 = load_and_preprocess(ori_folder+\"Phones_accelerometer.csv\", schema)\n",
    "data2 = load_and_preprocess(ori_folder+\"Phones_gyroscope.csv\", schema)\n",
    "data3 = load_and_preprocess(ori_folder+\"Watch_accelerometer.csv\", schema)\n",
    "data4 = load_and_preprocess(ori_folder+\"Watch_gyroscope.csv\", schema)\n",
    "\n",
    "group1 = compute_group_statistics(data1)\n",
    "group2 = compute_group_statistics(data2)\n",
    "group3 = compute_group_statistics(data3)\n",
    "group4 = compute_group_statistics(data4)\n",
    "\n",
    "join1 = group1.join(group2, ['user', 'model', 'gt'], 'inner')\n",
    "join2 = group3.join(group4, on=['user', 'model', 'gt'], how='inner')\n",
    "\n",
    "results = join1.union(join2).collect()\n",
    "b = datetime.datetime.now()\n",
    "print (b-a)\n",
    "results"
   ]
  },
  {
   "cell_type": "code",
   "execution_count": null,
   "metadata": {},
   "outputs": [],
   "source": []
  }
 ],
 "metadata": {
  "kernelspec": {
   "display_name": "uam",
   "language": "python",
   "name": "python3"
  },
  "language_info": {
   "codemirror_mode": {
    "name": "ipython",
    "version": 3
   },
   "file_extension": ".py",
   "mimetype": "text/x-python",
   "name": "python",
   "nbconvert_exporter": "python",
   "pygments_lexer": "ipython3",
   "version": "3.12.5"
  }
 },
 "nbformat": 4,
 "nbformat_minor": 2
}
