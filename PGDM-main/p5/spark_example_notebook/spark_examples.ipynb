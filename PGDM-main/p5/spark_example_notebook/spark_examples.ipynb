{
 "cells": [
  {
   "cell_type": "code",
   "execution_count": 1,
   "metadata": {},
   "outputs": [
    {
     "name": "stderr",
     "output_type": "stream",
     "text": [
      "24/11/28 17:17:08 WARN Utils: Your hostname, Zhijie resolves to a loopback address: 127.0.1.1; using 10.27.109.93 instead (on interface wlo1)\n",
      "24/11/28 17:17:08 WARN Utils: Set SPARK_LOCAL_IP if you need to bind to another address\n",
      "Setting default log level to \"WARN\".\n",
      "To adjust logging level use sc.setLogLevel(newLevel). For SparkR, use setLogLevel(newLevel).\n",
      "24/11/28 17:17:08 WARN NativeCodeLoader: Unable to load native-hadoop library for your platform... using builtin-java classes where applicable\n"
     ]
    }
   ],
   "source": [
    "from pyspark import SparkContext\n",
    "sc=SparkContext()"
   ]
  },
  {
   "cell_type": "code",
   "execution_count": null,
   "metadata": {},
   "outputs": [
    {
     "name": "stderr",
     "output_type": "stream",
     "text": [
      "[Stage 0:>                                                        (0 + 12) / 12]\r"
     ]
    },
    {
     "name": "stdout",
     "output_type": "stream",
     "text": [
      "55\n"
     ]
    },
    {
     "name": "stderr",
     "output_type": "stream",
     "text": [
      "                                                                                \r"
     ]
    },
    {
     "name": "stderr",
     "output_type": "stream",
     "text": [
      "24/11/28 17:17:24 WARN GarbageCollectionMetrics: To enable non-built-in garbage collector(s) List(G1 Concurrent GC), users should configure it(them) to spark.eventLog.gcMetrics.youngGenerationGarbageCollectors or spark.eventLog.gcMetrics.oldGenerationGarbageCollectors\n"
     ]
    }
   ],
   "source": [
    "numeros = sc.parallelize([1,2,3,4,5,6,7,8,9,10])\n",
    "\n",
    "print(numeros.reduce(lambda e1,e2: e1+e2))"
   ]
  },
  {
   "cell_type": "code",
   "execution_count": 3,
   "metadata": {},
   "outputs": [
    {
     "name": "stdout",
     "output_type": "stream",
     "text": [
      "[1, 2, 3, 4, 5, 6, 7, 8, 9, 10]\n",
      "[3, 6, 9, 12, 15, 18, 21, 24, 27, 30]\n"
     ]
    }
   ],
   "source": [
    "numeros = sc.parallelize([1,2,3,4,5,6,7,8,9,10])\n",
    "\n",
    "rdd = numeros.map(lambda e: 3*e)\n",
    "\n",
    "print(numeros.collect())\n",
    "print(rdd.collect())\n",
    "# ¿Cómo hacer para obtener una lista de los elementos al cuadrado?"
   ]
  },
  {
   "cell_type": "code",
   "execution_count": 4,
   "metadata": {},
   "outputs": [
    {
     "name": "stdout",
     "output_type": "stream",
     "text": [
      "['hola', 'que', 'tal', 'bien']\n"
     ]
    }
   ],
   "source": [
    "palabras = sc.parallelize(['HOLA', 'Que', 'TAL', 'Bien'])\n",
    "\n",
    "pal_minus = palabras.map(lambda elemento: elemento.lower())\n",
    "\n",
    "print(pal_minus.collect())"
   ]
  },
  {
   "cell_type": "code",
   "execution_count": 5,
   "metadata": {},
   "outputs": [
    {
     "name": "stdout",
     "output_type": "stream",
     "text": [
      "[4, 3, 3, 4]\n"
     ]
    }
   ],
   "source": [
    "palabras = sc.parallelize(['HOLA', 'Que', 'TAL', 'Bien'])\n",
    "\n",
    "pal_long = palabras.map(lambda elemento: len(elemento))\n",
    "\n",
    "print(pal_long.collect())"
   ]
  },
  {
   "cell_type": "code",
   "execution_count": 6,
   "metadata": {},
   "outputs": [
    {
     "name": "stdout",
     "output_type": "stream",
     "text": [
      "[2, 4, 6, 8, 10]\n"
     ]
    }
   ],
   "source": [
    "numeros = sc.parallelize([1,2,3,4,5,6,7,8,9,10])\n",
    "\n",
    "rdd = numeros.filter(lambda elemento: elemento%2==0)\n",
    "\n",
    "print(rdd.collect())\n",
    "# ¿Cómo filtrar los impares?"
   ]
  },
  {
   "cell_type": "code",
   "execution_count": 7,
   "metadata": {},
   "outputs": [
    {
     "name": "stdout",
     "output_type": "stream",
     "text": [
      "['E: e21', 'E: e45']\n"
     ]
    }
   ],
   "source": [
    "log = sc.parallelize(['E: e21', 'W: w12', 'W: w13', 'E: e45'])\n",
    "\n",
    "errors = log.filter(lambda elemento: elemento[0]=='E')\n",
    "\n",
    "print (errors.collect())"
   ]
  },
  {
   "cell_type": "code",
   "execution_count": 8,
   "metadata": {},
   "outputs": [
    {
     "name": "stdout",
     "output_type": "stream",
     "text": [
      "[0, 0, 1, 0, 1, 2, 0, 1, 2, 3, 0, 1, 2, 3, 4]\n"
     ]
    }
   ],
   "source": [
    "numeros = sc.parallelize([1,2,3,4,5])\n",
    "\n",
    "rdd = numeros.flatMap(lambda elemento: list(range(elemento)))\n",
    "\n",
    "print(rdd.collect())"
   ]
  },
  {
   "cell_type": "code",
   "execution_count": 9,
   "metadata": {},
   "outputs": [
    {
     "name": "stdout",
     "output_type": "stream",
     "text": [
      "['a', 'a', 'b', 'a', 'b', 'c']\n"
     ]
    }
   ],
   "source": [
    "lineas = sc.parallelize(['', 'a', 'a b', 'a b c'])\n",
    "\n",
    "palabras = lineas.flatMap(lambda elemento: elemento.split())\n",
    "\n",
    "print(palabras.collect())"
   ]
  },
  {
   "cell_type": "code",
   "execution_count": 10,
   "metadata": {},
   "outputs": [
    {
     "name": "stdout",
     "output_type": "stream",
     "text": [
      "['a', 'a', 'b', 'a', 'b', 'c']\n",
      "[[], ['a'], ['a', 'b'], ['a', 'b', 'c']]\n",
      "6\n",
      "4\n"
     ]
    }
   ],
   "source": [
    "lineas = sc.parallelize(['', 'a', 'a b', 'a b c'])\n",
    "\n",
    "palabras_flat = lineas.flatMap(lambda elemento: elemento.split())\n",
    "palabras_map = lineas.map(lambda elemento: elemento.split())\n",
    "\n",
    "print(palabras_flat.collect())\n",
    "print(palabras_map.collect())\n",
    "# ¿Cuántos elementos tiene cada rdd? ¿Cuál tiene más?\n",
    "# ¿De qué tipo son los elementos del rdd palabras_map?\n",
    "# ¿Por qué palabras_map tiene el primer elemento vacio?\n",
    "print(palabras_flat.count())\n",
    "print(palabras_map.count())"
   ]
  },
  {
   "cell_type": "code",
   "execution_count": 11,
   "metadata": {},
   "outputs": [
    {
     "name": "stdout",
     "output_type": "stream",
     "text": [
      "[1, 2, 5]\n"
     ]
    }
   ],
   "source": [
    "numeros = sc.parallelize([1,1,2,2,5])\n",
    "\n",
    "unicos = numeros.distinct()\n",
    "\n",
    "print (unicos.collect())\n",
    "# Prueba qué sucede si lo aplicamos a cadenas"
   ]
  },
  {
   "cell_type": "code",
   "execution_count": 12,
   "metadata": {},
   "outputs": [
    {
     "name": "stdout",
     "output_type": "stream",
     "text": [
      "[2, 4, 6, 8, 10, 1, 3, 5, 7, 9]\n"
     ]
    }
   ],
   "source": [
    "pares = sc.parallelize([2,4,6,8,10])\n",
    "impares = sc.parallelize([1,3,5,7,9])\n",
    "\n",
    "numeros = pares.union(impares)\n",
    "\n",
    "print (numeros.collect())"
   ]
  },
  {
   "cell_type": "code",
   "execution_count": 13,
   "metadata": {},
   "outputs": [
    {
     "name": "stdout",
     "output_type": "stream",
     "text": [
      "['I: i11', 'I: i11', 'E: e21', 'E: e45']\n"
     ]
    }
   ],
   "source": [
    "log = sc.parallelize(['E: e21', 'I: i11', 'W: w12', 'I: i11', 'W: w13', 'E: e45'])\n",
    "\n",
    "infos = log.filter(lambda elemento: elemento[0]=='I')\n",
    "errors = log.filter(lambda elemento: elemento[0]=='E')\n",
    "\n",
    "inferr = infos.union(errors)\n",
    "\n",
    "print (inferr.collect())"
   ]
  },
  {
   "cell_type": "code",
   "execution_count": 14,
   "metadata": {},
   "outputs": [
    {
     "name": "stdout",
     "output_type": "stream",
     "text": [
      "[1, 2, 2, 3, 3, 4, 5, 5, 6, 7, 8, 10]\n"
     ]
    }
   ],
   "source": [
    "numeros = sc.parallelize([1,2,3,4,5,6,7,8,9,10])\n",
    "\n",
    "rdd = numeros.sample(True, 1.0)\n",
    "\n",
    "print (rdd.collect())"
   ]
  },
  {
   "cell_type": "code",
   "execution_count": 15,
   "metadata": {},
   "outputs": [
    {
     "name": "stdout",
     "output_type": "stream",
     "text": [
      "5\n"
     ]
    }
   ],
   "source": [
    "numeros = sc.parallelize([1,2,3,4,5,6,7,8,9,10])\n",
    "\n",
    "pares = numeros.filter(lambda elemento: elemento%2==0)\n",
    "\n",
    "print (pares.count())"
   ]
  },
  {
   "cell_type": "code",
   "execution_count": 16,
   "metadata": {},
   "outputs": [
    {
     "name": "stdout",
     "output_type": "stream",
     "text": [
      "15\n"
     ]
    }
   ],
   "source": [
    "numeros = sc.parallelize([1,2,3,4,5])\n",
    "\n",
    "print (numeros.reduce(lambda elem1,elem2: elem2+elem1))"
   ]
  },
  {
   "cell_type": "code",
   "execution_count": 17,
   "metadata": {},
   "outputs": [
    {
     "name": "stdout",
     "output_type": "stream",
     "text": [
      "3\n"
     ]
    }
   ],
   "source": [
    "#Tiene sentido esta operación?\n",
    "numeros = sc.parallelize([1,2,3,4,5])\n",
    "\n",
    "print(numeros.reduce(lambda elem1,elem2: elem2-elem1))"
   ]
  },
  {
   "cell_type": "code",
   "execution_count": 18,
   "metadata": {},
   "outputs": [
    {
     "name": "stdout",
     "output_type": "stream",
     "text": [
      "bien<->tal<->que<->hola\n"
     ]
    }
   ],
   "source": [
    "palabras = sc.parallelize(['HOLA', 'Que', 'TAL', 'Bien'])\n",
    "\n",
    "pal_minus = palabras.map(lambda elemento: elemento.lower())\n",
    "\n",
    "print(pal_minus.reduce(lambda elem1,elem2: elem2+\"<->\"+elem1))\n",
    "#y esta tiene sentido esta operación?\n",
    "# Qué pasa si ponemos elem2+\"-\"+elem1"
   ]
  },
  {
   "cell_type": "code",
   "execution_count": 19,
   "metadata": {},
   "outputs": [
    {
     "name": "stdout",
     "output_type": "stream",
     "text": [
      "[5, 3, 2]\n"
     ]
    }
   ],
   "source": [
    "numeros = sc.parallelize([5,3,2,1,4])\n",
    "\n",
    "print (numeros.take(3))\n",
    "#¿Qué sucede si ponemos 30 en vez de 3 elementos?"
   ]
  },
  {
   "cell_type": "code",
   "execution_count": 20,
   "metadata": {},
   "outputs": [
    {
     "name": "stdout",
     "output_type": "stream",
     "text": [
      "[5, 3, 2, 1, 4]\n"
     ]
    }
   ],
   "source": [
    "numeros = sc.parallelize([5,3,2,1,4])\n",
    "\n",
    "print (numeros.collect())"
   ]
  },
  {
   "cell_type": "code",
   "execution_count": 21,
   "metadata": {},
   "outputs": [
    {
     "name": "stdout",
     "output_type": "stream",
     "text": [
      "[1, 2, 3]\n"
     ]
    }
   ],
   "source": [
    "numeros = sc.parallelize([5,3,2,1,4])\n",
    "\n",
    "print (numeros.takeOrdered(3))"
   ]
  },
  {
   "cell_type": "code",
   "execution_count": 22,
   "metadata": {},
   "outputs": [
    {
     "name": "stdout",
     "output_type": "stream",
     "text": [
      "[5, 4, 3]\n"
     ]
    }
   ],
   "source": [
    "numeros = sc.parallelize([3,2,1,4,5])\n",
    "\n",
    "print (numeros.takeOrdered(3, lambda elem: -elem))\n",
    "# Cómo lo ordenarías para que primero aparezcan los impares y luego los pares?"
   ]
  },
  {
   "cell_type": "code",
   "execution_count": null,
   "metadata": {
    "scrolled": true
   },
   "outputs": [
    {
     "name": "stdout",
     "output_type": "stream",
     "text": [
      "384260\n",
      "384260\n",
      "29849\n"
     ]
    }
   ],
   "source": [
    "# Contar caracteres\n",
    "lineas = sc.textFile('elquijote.txt', 8)\n",
    "\n",
    "long_lineas = lineas.map(lambda e: len(e))\n",
    "print (long_lineas.reduce(lambda e1,e2: e1+e2))\n",
    "\n",
    "\n",
    "# ¿Cómo contarias las palabras totales del fichero?\n",
    "len_word = lineas.flatMap(lambda e: e.split())\n",
    "print(len_word.count())\n",
    "len_word = lineas.map(lambda e: len(e.split())).reduce(lambda e1,e2: e1+e2)\n",
    "print(len_word)\n",
    "# ¿Cómo contarías las veces que aparece la letra 'q'?\n",
    "number_q = lineas.map(lambda e: e.count('q')).reduce(lambda e1,e2: e1+e2)\n",
    "print(number_q)"
   ]
  },
  {
   "cell_type": "code",
   "execution_count": 24,
   "metadata": {},
   "outputs": [
    {
     "name": "stdout",
     "output_type": "stream",
     "text": [
      "168.93825222396651\n",
      "7.8340557833708955\n",
      "7.8340557833708955\n"
     ]
    }
   ],
   "source": [
    "lineas = sc.textFile('alturas_v0.csv', 8)\n",
    "\n",
    "def convert(e):\n",
    "    number = float(e)\n",
    "    if(number % 1 != 0):\n",
    "        return number * 100\n",
    "    else:\n",
    "        return number\n",
    "\n",
    "# Media\n",
    "rdd = lineas.map(convert).filter(lambda e: e > 0).map(lambda e: (e, 1))\n",
    "total, count = rdd.reduce(lambda e1,e2: (e1[0]+e2[0], e1[1]+e2[1]))\n",
    "media = total / count\n",
    "print(total/count)\n",
    "\n",
    "\n",
    "# desviación típica\n",
    "rdd = lineas.map(convert).filter(lambda e: e > 0).map(lambda e: (e**2, 1))\n",
    "x2, N = rdd.reduce(lambda e1,e2: (e1[0]+e2[0], e1[1]+e2[1]))\n",
    "print((x2 / N - media**2)**0.5)\n",
    "\n",
    "\n",
    "rdd = lineas.map(convert).filter(lambda e: e > 0).map(lambda e: (e, e**2, 1))\n",
    "total, x2, N = rdd.reduce(lambda e1,e2: (e1[0]+e2[0], e1[1]+e2[1], e1[2]+e2[2]))\n",
    "print((x2 / N - media**2)**0.5)"
   ]
  },
  {
   "cell_type": "code",
   "execution_count": 27,
   "metadata": {},
   "outputs": [
    {
     "name": "stdout",
     "output_type": "stream",
     "text": [
      "Gender: H-> Media: 173.46075433231397, Desviación: 7.53122883663738\n",
      "Gender: M-> Media: 164.16774193548386, Desviación: 4.684891325217995\n"
     ]
    }
   ],
   "source": [
    "lineas = sc.textFile('alturas.csv', 8)\n",
    "\n",
    "def convert(e):\n",
    "    gender, number = e.split(',')\n",
    "    n = float(number)\n",
    "    if(n % 1 != 0):\n",
    "        return (gender, n * 100)\n",
    "    else:\n",
    "        return (gender, n)\n",
    "\n",
    "rdd = lineas.map(convert).filter(lambda e: e[1] > 0).map(lambda e: (e[0], (e[1], e[1]**2, 1)))\n",
    "rr = rdd.reduceByKey(lambda e1,e2: (e1[0]+e2[0], e1[1]+e2[1], e1[2]+e2[2]))\n",
    "results = rr.collect()\n",
    "for r in results:\n",
    "    print(f'Gender: {r[0]}-> Media: {r[1][0]/r[1][2]}, Desviación: {(r[1][1]/r[1][2] - (r[1][0]/r[1][2])**2)**0.5}')"
   ]
  },
  {
   "cell_type": "code",
   "execution_count": 24,
   "metadata": {},
   "outputs": [
    {
     "name": "stdout",
     "output_type": "stream",
     "text": [
      "[('HOLA', 4), ('Que', 3), ('TAL', 3), ('Bien', 4)]\n"
     ]
    }
   ],
   "source": [
    "palabras = sc.parallelize(['HOLA', 'Que', 'TAL', 'Bien'])\n",
    "\n",
    "pal_long = palabras.map(lambda elem: (elem, len(elem)))\n",
    "\n",
    "print (pal_long.collect())"
   ]
  },
  {
   "cell_type": "code",
   "execution_count": 25,
   "metadata": {},
   "outputs": [
    {
     "name": "stdout",
     "output_type": "stream",
     "text": [
      "[('B', 5), ('C', 4), ('A', 2)]\n"
     ]
    }
   ],
   "source": [
    "r = sc.parallelize([('A', 1),('C', 4),('A', 1),('B', 1),('B', 4)])\n",
    "rr = r.reduceByKey(lambda v1,v2:v1+v2)\n",
    "print (rr.collect())\n"
   ]
  },
  {
   "cell_type": "code",
   "execution_count": 26,
   "metadata": {},
   "outputs": [
    {
     "name": "stdout",
     "output_type": "stream",
     "text": [
      "[('B', 5), ('C', 4), ('A', 2)]\n",
      "[('B', 5), ('C', 4), ('A', 2)]\n"
     ]
    }
   ],
   "source": [
    "r = sc.parallelize([('A', 1),('C', 4),('A', 1),('B', 1),('B', 4)])\n",
    "rr1 = r.reduceByKey(lambda v1,v2:v1+v2)\n",
    "print (rr1.collect())\n",
    "rr2 = rr1.reduceByKey(lambda v1,v2:v1)\n",
    "print (rr2.collect())\n"
   ]
  },
  {
   "cell_type": "code",
   "execution_count": 27,
   "metadata": {},
   "outputs": [
    {
     "name": "stdout",
     "output_type": "stream",
     "text": [
      "[('B', 'hola'), ('C', 4), ('A', 'hola')]\n",
      "[('B', 'hola'), ('C', 4), ('A', 'hola')]\n"
     ]
    }
   ],
   "source": [
    "# Explica el resultado\n",
    "r = sc.parallelize([('A', 1),('C', 4),('A', 1),('B', 1),('B', 4)])\n",
    "rr1 = r.reduceByKey(lambda v1,v2:'hola')\n",
    "print (rr1.collect())\n",
    "rr2 = rr1.reduceByKey(lambda v1,v2:'hola')\n",
    "print (rr2.collect())\n"
   ]
  },
  {
   "cell_type": "code",
   "execution_count": 6,
   "metadata": {},
   "outputs": [
    {
     "name": "stdout",
     "output_type": "stream",
     "text": [
      "[('que', 19470), ('de', 18156), ('y', 16489), ('la', 10338), ('a', 9802)]\n",
      "38624\n",
      "[(' ', 355903), ('e', 223829), ('a', 194368), ('o', 154709), ('s', 126490)]\n",
      "70\n"
     ]
    }
   ],
   "source": [
    "lineas = sc.textFile('elquijote.txt', 8)\n",
    "pals = (lineas.flatMap(lambda linea: linea.lower().split())\n",
    "             .map(lambda pal: (pal, 1))\n",
    "             .reduceByKey(lambda elem1,elem2: elem1 + elem2))\n",
    "\n",
    "print (pals.takeOrdered(5, key=lambda a:-a[1]))\n",
    "\n",
    "print (pals.count())\n",
    "\n",
    "#Modificadlo para:\n",
    "#  * Contar el histograma de ocurrencia de caracteres\n",
    "#  * Obtener la lista ordenada de mayor a menor\n",
    "pals = (lineas.flatMap(lambda linea: linea.lower())\n",
    "             .map(lambda pal: (pal, 1))\n",
    "             .reduceByKey(lambda elem1,elem2: elem1 + elem2))\n",
    "\n",
    "print (pals.takeOrdered(5, key=lambda a:-a[1]))\n",
    "\n",
    "print (pals.count())"
   ]
  },
  {
   "cell_type": "code",
   "execution_count": 29,
   "metadata": {},
   "outputs": [
    {
     "name": "stdout",
     "output_type": "stream",
     "text": [
      "B [4, 5]\n",
      "C [2]\n",
      "A [1, 3]\n"
     ]
    }
   ],
   "source": [
    "r = sc.parallelize([('A', 1),('C', 2),('A', 3),('B', 4),('B', 5)])\n",
    "rr = r.groupByKey()\n",
    "res= rr.collect()\n",
    "for k,v in res:\n",
    "    print (k, list(v))\n",
    "# Que operación realizar al RDD rr para que la operacion sea como un reduceByKey\n",
    "#¿Y simular un group con un reduceByKey y un map?\n"
   ]
  },
  {
   "cell_type": "code",
   "execution_count": null,
   "metadata": {},
   "outputs": [
    {
     "name": "stdout",
     "output_type": "stream",
     "text": [
      "[('C', (3, 6)), ('A', (1, 4)), ('A', (1, 5)), ('A', (2, 4)), ('A', (2, 5))]\n"
     ]
    }
   ],
   "source": [
    "rdd1 = sc.parallelize([('A',1),('B',2),('C',3)])\n",
    "rdd2 = sc.parallelize([('A',4),('B',5),('C',6)])\n",
    "\n",
    "rddjoin = rdd1.join(rdd2)\n",
    "\n",
    "print (rddjoin.collect())\n",
    "# Prueba a cambiar las claves del rdd1 y rdd2 para ver cuántos elementos se crean"
   ]
  },
  {
   "cell_type": "code",
   "execution_count": 11,
   "metadata": {},
   "outputs": [
    {
     "name": "stdout",
     "output_type": "stream",
     "text": [
      "[('C', (3, 6)), ('A', (1, 4)), ('A', (1, 5)), ('A', (2, 4)), ('A', (2, 5))]\n"
     ]
    }
   ],
   "source": [
    "rdd1 = sc.parallelize([('A',1),('A',2),('B',2),('C',3)])\n",
    "rdd2 = sc.parallelize([('A',4),('A',5),('C',6)])\n",
    "\n",
    "rddjoin = rdd1.join(rdd2)\n",
    "\n",
    "print (rddjoin.collect())\n",
    "# Prueba a cambiar las claves del rdd1 y rdd2 para ver cuántos elementos se crean"
   ]
  },
  {
   "cell_type": "code",
   "execution_count": 31,
   "metadata": {},
   "outputs": [
    {
     "name": "stdout",
     "output_type": "stream",
     "text": [
      "[('B', (2, 6)), ('A', (1, 4)), ('A', (1, 5))]\n"
     ]
    }
   ],
   "source": [
    "rdd1 = sc.parallelize([('A',1),('B',2),('C',3)])\n",
    "rdd2 = sc.parallelize([('A',4),('A',5),('B',6),('D',7)])\n",
    "\n",
    "rddjoin = rdd1.join(rdd2)\n",
    "\n",
    "print (rddjoin.collect())\n",
    "#Modifica join por leftOuterJoin, rightOuterJoin y fullOuterJoin ¿Qué sucede? \n"
   ]
  },
  {
   "cell_type": "code",
   "execution_count": 14,
   "metadata": {},
   "outputs": [
    {
     "name": "stdout",
     "output_type": "stream",
     "text": [
      "[('B', (2, None)), ('C', (3, 6)), ('A', (1, 4)), ('A', (1, 5)), ('A', (2, 4)), ('A', (2, 5))]\n"
     ]
    }
   ],
   "source": [
    "rdd1 = sc.parallelize([('A',1),('A',2),('B',2),('C',3)])\n",
    "rdd2 = sc.parallelize([('A',4),('A',5),('C',6)])\n",
    "\n",
    "rddjoin = rdd1.leftOuterJoin(rdd2)\n",
    "rddjoin = rdd1.rightOuterJoin(rdd2)\n",
    "rddjoin = rdd1.fullOuterJoin(rdd2)\n",
    "\n",
    "\n",
    "print (rddjoin.collect())\n",
    "# Prueba a cambiar las claves del rdd1 y rdd2 para ver cuántos elementos se crean"
   ]
  },
  {
   "cell_type": "code",
   "execution_count": 32,
   "metadata": {
    "scrolled": true
   },
   "outputs": [
    {
     "name": "stdout",
     "output_type": "stream",
     "text": [
      "[('C', 3), ('B', 2), ('B', 6), ('A', 1), ('A', 4), ('A', 5)]\n"
     ]
    }
   ],
   "source": [
    "rdd = sc.parallelize([('A',1),('B',2),('C',3),('A',4),('A',5),('B',6)])\n",
    "\n",
    "res = rdd.sortByKey(False)\n",
    "\n",
    "print (res.collect())"
   ]
  },
  {
   "cell_type": "code",
   "execution_count": 16,
   "metadata": {},
   "outputs": [],
   "source": [
    "# boorar un directorio usando python, solo válido en local\n",
    "import shutil\n",
    "#shutil.rmtree('salida')\n",
    "import os;\n",
    "\n",
    "if os.path.isdir('salida'):\n",
    "    n2 = sc.textFile('salida').map(lambda a:int(a))\n",
    "    print (n2.reduce(lambda v1,v2: v1 + v2))\n",
    "else:\n",
    "    numeros = sc.parallelize(range(0,1000))\n",
    "    numeros.saveAsTextFile('salida')\n",
    "\n",
    "# Prueba este código y mira qué genera?\n",
    "# Borra la salida y cambia las particiones en parallelize ¿Qué sucede? \n",
    "#    (pe c.parallelize(xrange(0,1000),8))\n"
   ]
  },
  {
   "cell_type": "code",
   "execution_count": 34,
   "metadata": {},
   "outputs": [
    {
     "name": "stdout",
     "output_type": "stream",
     "text": [
      "Serialized 1x Replicated\n",
      "37861\n",
      "CPU times: user 2.34 ms, sys: 1.79 ms, total: 4.13 ms\n",
      "Wall time: 81.4 ms\n",
      "37861\n",
      "CPU times: user 3.04 ms, sys: 10 μs, total: 3.05 ms\n",
      "Wall time: 61.9 ms\n",
      "37861\n",
      "CPU times: user 3.6 ms, sys: 77 μs, total: 3.68 ms\n",
      "Wall time: 152 ms\n",
      "37861\n",
      "CPU times: user 2.33 ms, sys: 963 μs, total: 3.29 ms\n",
      "Wall time: 72 ms\n"
     ]
    }
   ],
   "source": [
    "print (rdd.getStorageLevel())\n",
    "rdd = sc.textFile('elquijote.txt')\n",
    "%time print (rdd.count())\n",
    "%time print (rdd.count())\n",
    "rdd.cache()\n",
    "%time print (rdd.count())\n",
    "%time print (rdd.count())\n"
   ]
  },
  {
   "cell_type": "code",
   "execution_count": 35,
   "metadata": {},
   "outputs": [
    {
     "name": "stdout",
     "output_type": "stream",
     "text": [
      "Counter value: 0\n"
     ]
    }
   ],
   "source": [
    "counter = 0\n",
    "rdd = sc.textFile('elquijote.txt')\n",
    "\n",
    "# Esto no funciona\n",
    "def increment_counter(x):\n",
    "    global counter\n",
    "    counter += x\n",
    "    \n",
    "rdd.map(lambda l:len(l)).foreach(increment_counter)\n",
    "\n",
    "print (\"Counter value: %d\" % counter)"
   ]
  },
  {
   "cell_type": "code",
   "execution_count": 36,
   "metadata": {},
   "outputs": [
    {
     "name": "stdout",
     "output_type": "stream",
     "text": [
      "[('el', 8170), ('en', 8149), ('no', 5776), ('los', 4735), ('se', 4690)]\n"
     ]
    }
   ],
   "source": [
    "pals_a_eliminar = ['y', 'la', 'a', 'segun', 'que', 'de']\n",
    "\n",
    "def elimPalabras(p):\n",
    "    global pals_a_eliminar\n",
    "    return p not in pals_a_eliminar\n",
    "\n",
    "lineas = sc.textFile('elquijote.txt', 8)\n",
    "pals = (lineas.flatMap(lambda linea: linea.lower().split())\n",
    "              .filter(elimPalabras)\n",
    "              .map(lambda pal: (pal, 1))\n",
    "              .reduceByKey(lambda elem1,elem2: elem1 + elem2))\n",
    "\n",
    "print(pals.takeOrdered(5, key=lambda a:-a[1]))"
   ]
  },
  {
   "cell_type": "code",
   "execution_count": 37,
   "metadata": {},
   "outputs": [
    {
     "name": "stdout",
     "output_type": "stream",
     "text": [
      "[('la', 10338), ('a', 9802), ('el', 8170), ('en', 8149), ('no', 5776)]\n"
     ]
    }
   ],
   "source": [
    "pals_a_eliminar = sc.broadcast(['y', 'ante', 'bajo', 'segun', 'que', 'de'])\n",
    "\n",
    "def elimPalabras(p):\n",
    "    return p not in pals_a_eliminar.value\n",
    "\n",
    "lineas = sc.textFile('elquijote.txt', 8)\n",
    "pals = (lineas.flatMap(lambda linea: linea.lower().split())\n",
    "              .filter(elimPalabras)\n",
    "              .map(lambda pal: (pal, 1))\n",
    "              .reduceByKey(lambda elem1,elem2: elem1 + elem2))\n",
    "\n",
    "print(pals.takeOrdered(5, key=lambda a:-a[1]))"
   ]
  },
  {
   "cell_type": "code",
   "execution_count": 38,
   "metadata": {},
   "outputs": [
    {
     "name": "stdout",
     "output_type": "stream",
     "text": [
      "Counter value: 2079636\n"
     ]
    },
    {
     "name": "stderr",
     "output_type": "stream",
     "text": [
      "24/11/21 17:40:06 WARN GarbageCollectionMetrics: To enable non-built-in garbage collector(s) List(G1 Concurrent GC), users should configure it(them) to spark.eventLog.gcMetrics.youngGenerationGarbageCollectors or spark.eventLog.gcMetrics.oldGenerationGarbageCollectors\n"
     ]
    }
   ],
   "source": [
    "counter = sc.accumulator(0)\n",
    "\n",
    "rdd = sc.textFile('elquijote.txt')\n",
    "\n",
    "def increment_counter(x):\n",
    "    global counter\n",
    "    counter += x\n",
    "    \n",
    "rdd.map(lambda l:len(l)).foreach(increment_counter)\n",
    "\n",
    "print (\"Counter value: %d\" % counter.value)"
   ]
  },
  {
   "cell_type": "code",
   "execution_count": null,
   "metadata": {
    "collapsed": true,
    "jupyter": {
     "outputs_hidden": true
    }
   },
   "outputs": [],
   "source": []
  }
 ],
 "metadata": {
  "kernelspec": {
   "display_name": "uam",
   "language": "python",
   "name": "python3"
  },
  "language_info": {
   "codemirror_mode": {
    "name": "ipython",
    "version": 3
   },
   "file_extension": ".py",
   "mimetype": "text/x-python",
   "name": "python",
   "nbconvert_exporter": "python",
   "pygments_lexer": "ipython3",
   "version": "3.12.5"
  }
 },
 "nbformat": 4,
 "nbformat_minor": 4
}
